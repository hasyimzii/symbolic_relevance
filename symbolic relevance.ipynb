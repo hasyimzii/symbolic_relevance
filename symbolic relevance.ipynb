{
 "cells": [
  {
   "cell_type": "code",
   "execution_count": null,
   "metadata": {},
   "outputs": [],
   "source": [
    "# init\n",
    "import glob\n",
    "import os\n",
    "import csv\n",
    "import string\n",
    "import numpy as np\n",
    "import pandas as pd\n",
    "import nltk\n",
    "# nltk.download()\n",
    "from nltk.tokenize import word_tokenize\n",
    "from nltk.corpus import stopwords\n",
    "from sklearn.feature_extraction.text import CountVectorizer\n",
    "from sklearn.feature_extraction.text import TfidfVectorizer\n",
    "from matplotlib import pyplot as plt\n",
    "%matplotlib inline"
   ]
  },
  {
   "attachments": {},
   "cell_type": "markdown",
   "metadata": {},
   "source": [
    "Import Data"
   ]
  },
  {
   "cell_type": "code",
   "execution_count": 8,
   "metadata": {},
   "outputs": [],
   "source": [
    "header = ['class', 'document', 'feature']\n",
    "pubmedClass = []\n",
    "pubmedDoc = [] \n",
    "pubmedFeature = []\n",
    "\n",
    "# import pubmed\n",
    "docList = glob.glob(os.path.join(os.getcwd(), \"Datasets/pubmed/\", \"*.txt\"))\n",
    "\n",
    "for docPath in docList:\n",
    "    docName = os.path.basename(docPath).split('.')[0]\n",
    "    pubmedDoc.append(docName)\n",
    "    pubmedClass.append(docName[:3])\n",
    "    with open(docPath) as doc:\n",
    "        pubmedFeature.append(doc.read().replace('\\n', ' '))\n",
    "\n",
    "# print(pubmed)\n",
    "\n",
    "# export csv\n",
    "def exportCsv(classes, docs, features, fileName):\n",
    "    with open(f'{fileName}.csv', 'w', encoding='UTF8', newline='') as f:\n",
    "        writer = csv.writer(f)\n",
    "        writer.writerow(header)\n",
    "        for i in range(0, len(features)):\n",
    "            writer.writerow([classes[i], docs[i], features[i]])"
   ]
  },
  {
   "cell_type": "code",
   "execution_count": null,
   "metadata": {},
   "outputs": [],
   "source": [
    "# export pubmed raw\n",
    "exportCsv(pubmedClass, pubmedDoc, pubmedFeature, 'pubmed_raw')"
   ]
  },
  {
   "attachments": {},
   "cell_type": "markdown",
   "metadata": {},
   "source": [
    "Dataframe raw"
   ]
  },
  {
   "cell_type": "code",
   "execution_count": null,
   "metadata": {},
   "outputs": [],
   "source": [
    "# read csv\n",
    "data = pd.read_csv('pubmed_raw.csv')\n",
    "data.head()"
   ]
  },
  {
   "attachments": {},
   "cell_type": "markdown",
   "metadata": {},
   "source": [
    "Preprocesing"
   ]
  },
  {
   "cell_type": "code",
   "execution_count": 9,
   "metadata": {},
   "outputs": [],
   "source": [
    "features = data.loc[:, 'feature']\n",
    "\n",
    "# punctuation removal\n",
    "punctuation = []\n",
    "for feature in features:\n",
    "    translate = feature.translate(str.maketrans('', '', string.punctuation))\n",
    "    punctuation.append(translate)\n",
    "\n",
    "# print(punctuation)\n",
    "\n",
    "# case folding\n",
    "casefolding = []\n",
    "for feature in punctuation:\n",
    "    lower = feature.lower()\n",
    "    casefolding.append(lower)\n",
    "\n",
    "# print(casefolding)\n",
    "\n",
    "# tokenization\n",
    "tokenization = []\n",
    "for feature in casefolding:\n",
    "    token = word_tokenize(feature)\n",
    "    tokenization.append(token)\n",
    "\n",
    "# print(tokenization)\n",
    "\n",
    "# stopwords removal\n",
    "preprocessed = []\n",
    "stopWords = set(stopwords.words('english'))\n",
    "for token in tokenization:\n",
    "    for feature in token:\n",
    "        if feature not in stopWords:\n",
    "            preprocessed.append(feature)\n",
    "\n",
    "# print(preprocessed)\n",
    "\n",
    "# export pubmed clean\n",
    "exportCsv(pubmedClass, pubmedDoc, pubmedFeature, 'pubmed_clean')"
   ]
  },
  {
   "attachments": {},
   "cell_type": "markdown",
   "metadata": {},
   "source": [
    "Feature Forming"
   ]
  },
  {
   "cell_type": "code",
   "execution_count": null,
   "metadata": {},
   "outputs": [],
   "source": [
    "# POS tag\n",
    "tagged = nltk.pos_tag(preprocessed)\n",
    "\n",
    "# BOAW\n",
    "def boaw(features):\n",
    "    vectorizer = CountVectorizer()\n",
    "    boaw = vectorizer.fit_transform(features).todense()\n",
    "    return boaw\n",
    "\n",
    "\n",
    "# BON\n",
    "def bon(features):\n",
    "    list = []\n",
    "    for (text, tag) in features:\n",
    "        if tag == 'NOUN':\n",
    "            list.append(text)\n",
    "\n",
    "    vectorizer = CountVectorizer()\n",
    "    bon = vectorizer.fit_transform(list).todense()\n",
    "    return bon\n",
    "\n",
    "# BONA\n",
    "def bona(features):\n",
    "    list = []\n",
    "    for (text, tag) in features:\n",
    "        if tag == 'NOUN' or tag == 'ADJ':\n",
    "            list.append(text)\n",
    "\n",
    "    vectorizer = CountVectorizer()\n",
    "    bona = vectorizer.fit_transform(list).todense()\n",
    "    return bona"
   ]
  },
  {
   "attachments": {},
   "cell_type": "markdown",
   "metadata": {},
   "source": [
    "Term Weighting"
   ]
  },
  {
   "cell_type": "code",
   "execution_count": null,
   "metadata": {},
   "outputs": [],
   "source": [
    "# TF\n",
    "def tf(features):\n",
    "    vectorizer = CountVectorizer()\n",
    "    tf = vectorizer.fit_transform(features).todense()\n",
    "    return tf\n",
    "\n",
    "# TF-IDF\n",
    "def tf_idf(features):\n",
    "    vectorizer = TfidfVectorizer()\n",
    "    tfIdf = vectorizer.fit_transform(features)\n",
    "    return tfIdf\n",
    "\n",
    "# TF-IDF-ICF\n",
    "def tf_idf_icf(features):\n",
    "    tfIdf = tf_idf(features)\n",
    "    # tfIdfIcf = tfIdf * icf\n",
    "    # return tfIdfIcf\n"
   ]
  }
 ],
 "metadata": {
  "kernelspec": {
   "display_name": "base",
   "language": "python",
   "name": "python3"
  },
  "language_info": {
   "codemirror_mode": {
    "name": "ipython",
    "version": 3
   },
   "file_extension": ".py",
   "mimetype": "text/x-python",
   "name": "python",
   "nbconvert_exporter": "python",
   "pygments_lexer": "ipython3",
   "version": "3.9.13"
  },
  "orig_nbformat": 4,
  "vscode": {
   "interpreter": {
    "hash": "60e3baaf0d9150201909656e65448b29902506d837bde84e10252942c4c1f9ba"
   }
  }
 },
 "nbformat": 4,
 "nbformat_minor": 2
}
