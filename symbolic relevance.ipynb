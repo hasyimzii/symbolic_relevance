{
 "cells": [
  {
   "cell_type": "code",
   "execution_count": 1,
   "metadata": {},
   "outputs": [],
   "source": [
    "# init\n",
    "import glob\n",
    "import os\n",
    "import csv\n",
    "import string\n",
    "import numpy as np\n",
    "import pandas as pd\n",
    "import nltk\n",
    "from nltk.tokenize import word_tokenize\n",
    "from nltk.corpus import stopwords\n",
    "from sklearn.feature_extraction.text import CountVectorizer\n",
    "from matplotlib import pyplot as plt\n",
    "%matplotlib inline"
   ]
  },
  {
   "attachments": {},
   "cell_type": "markdown",
   "metadata": {},
   "source": [
    "Import Data"
   ]
  },
  {
   "cell_type": "code",
   "execution_count": null,
   "metadata": {},
   "outputs": [],
   "source": [
    "header = ['class', 'document', 'feature']\n",
    "pubmed = []\n",
    "\n",
    "# import pubmed\n",
    "docList = glob.glob(os.path.join(os.getcwd(), \"Datasets/pubmed/\", \"*.txt\"))\n",
    "\n",
    "for docPath in docList:\n",
    "    docName = os.path.basename(docPath).split('.')[0]\n",
    "    className = docName[:3]\n",
    "    with open(docPath) as doc:\n",
    "        pubmed.append([className, docName, doc.read().replace('\\n', ' ')])\n",
    "\n",
    "# print(pubmed)\n",
    "\n",
    "# export csv pubmed\n",
    "with open('pubmed.csv', 'w', encoding='UTF8', newline='') as f:\n",
    "    writer = csv.writer(f)\n",
    "\n",
    "    # header\n",
    "    writer.writerow(header)\n",
    "    # row\n",
    "    writer.writerows(pubmed)"
   ]
  },
  {
   "attachments": {},
   "cell_type": "markdown",
   "metadata": {},
   "source": [
    "Dataframe"
   ]
  },
  {
   "cell_type": "code",
   "execution_count": null,
   "metadata": {},
   "outputs": [],
   "source": [
    "# read csv\n",
    "data = pd.read_csv('pubmed.csv')\n",
    "data.head()"
   ]
  },
  {
   "attachments": {},
   "cell_type": "markdown",
   "metadata": {},
   "source": [
    "Preprocesing"
   ]
  },
  {
   "cell_type": "code",
   "execution_count": null,
   "metadata": {},
   "outputs": [],
   "source": [
    "features = data.loc[:, 'feature']\n",
    "\n",
    "# punctuation removal\n",
    "punctuation = []\n",
    "for feature in features:\n",
    "    translate = feature.translate(str.maketrans('', '', string.punctuation))\n",
    "    punctuation.append(translate)\n",
    "\n",
    "# print(punctuation)\n",
    "\n",
    "# case folding\n",
    "casefolding = []\n",
    "for feature in punctuation:\n",
    "    lower = feature.lower()\n",
    "    casefolding.append(lower)\n",
    "\n",
    "# print(casefolding)\n",
    "\n",
    "# tokenization\n",
    "tokenization = []\n",
    "for feature in casefolding:\n",
    "    token = word_tokenize(feature)\n",
    "    tokenization.append(token)\n",
    "\n",
    "# print(tokenization)\n",
    "\n",
    "# stopwords removal\n",
    "preprocessed = []\n",
    "stopWords = set(stopwords.words('english'))\n",
    "for token in tokenization:\n",
    "    for feature in token:\n",
    "        if feature not in stopWords:\n",
    "            preprocessed.append(feature)\n",
    "\n",
    "print(preprocessed)"
   ]
  },
  {
   "attachments": {},
   "cell_type": "markdown",
   "metadata": {},
   "source": [
    "Feature Forming"
   ]
  },
  {
   "cell_type": "code",
   "execution_count": null,
   "metadata": {},
   "outputs": [],
   "source": [
    "# BOAW\n",
    "vectorizer = CountVectorizer()\n",
    "boaw = vectorizer.fit_transform(preprocessed).todense()\n",
    "print(boaw)\n",
    "boaw.get_feature_names()\n",
    "\n",
    "# POS tag\n",
    "tagged = nltk.pos_tag(preprocessed)\n",
    "\n",
    "# BON\n",
    "bon = []\n",
    "for (text, tag) in tagged:\n",
    "    if tag == 'NOUN':\n",
    "        bon.append(tag)\n",
    "\n",
    "# BONA\n",
    "bona = []\n",
    "for (text, tag) in tagged:\n",
    "    if tag == 'NOUN' or tag == 'ADJ':\n",
    "        bona.append(tag)"
   ]
  }
 ],
 "metadata": {
  "kernelspec": {
   "display_name": "base",
   "language": "python",
   "name": "python3"
  },
  "language_info": {
   "codemirror_mode": {
    "name": "ipython",
    "version": 3
   },
   "file_extension": ".py",
   "mimetype": "text/x-python",
   "name": "python",
   "nbconvert_exporter": "python",
   "pygments_lexer": "ipython3",
   "version": "3.9.13"
  },
  "orig_nbformat": 4,
  "vscode": {
   "interpreter": {
    "hash": "60e3baaf0d9150201909656e65448b29902506d837bde84e10252942c4c1f9ba"
   }
  }
 },
 "nbformat": 4,
 "nbformat_minor": 2
}
